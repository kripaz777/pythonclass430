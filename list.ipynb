{
 "cells": [
  {
   "cell_type": "code",
   "execution_count": 1,
   "id": "5dcb912f",
   "metadata": {},
   "outputs": [],
   "source": [
    "# append() insert() extend()"
   ]
  },
  {
   "cell_type": "code",
   "execution_count": 4,
   "id": "477792ab",
   "metadata": {},
   "outputs": [
    {
     "name": "stdout",
     "output_type": "stream",
     "text": [
      "['Apple', 'Ball', 'Cat']\n"
     ]
    }
   ],
   "source": [
    "a = []\n",
    "a.append('Apple')\n",
    "a.append('Ball')\n",
    "a.append('Cat')\n",
    "print(a)"
   ]
  },
  {
   "cell_type": "code",
   "execution_count": 5,
   "id": "cde5d1fb",
   "metadata": {},
   "outputs": [
    {
     "name": "stdout",
     "output_type": "stream",
     "text": [
      "Enter n = 5\n",
      "Enter x = asdas\n",
      "Enter x = sdfsd\n",
      "Enter x = adsasd\n",
      "Enter x = gjghj\n",
      "Enter x = sffd\n",
      "['asdas', 'sdfsd', 'adsasd', 'gjghj', 'sffd']\n"
     ]
    }
   ],
   "source": [
    "a = []\n",
    "n = int(input(\"Enter n = \"))\n",
    "for i in range(n):\n",
    "    x = input(\"Enter x = \")\n",
    "    a.append(x)\n",
    "    \n",
    "print(a)"
   ]
  },
  {
   "cell_type": "code",
   "execution_count": 7,
   "id": "0d646c32",
   "metadata": {},
   "outputs": [
    {
     "name": "stdout",
     "output_type": "stream",
     "text": [
      "['Apple', 'Ant', 'Ball', 'Cat']\n"
     ]
    }
   ],
   "source": [
    "a = ['Apple', 'Ball', 'Cat']\n",
    "a.insert(1,'Ant')\n",
    "print(a)"
   ]
  },
  {
   "cell_type": "code",
   "execution_count": 8,
   "id": "c9030f36",
   "metadata": {},
   "outputs": [
    {
     "name": "stdout",
     "output_type": "stream",
     "text": [
      "['Apple', 'Ball', 'Cat', 'Dog', 'Fish']\n"
     ]
    }
   ],
   "source": [
    "a = ['Apple', 'Ball', 'Cat']\n",
    "b = ['Dog','Fish']\n",
    "a.extend(b)\n",
    "print(a)"
   ]
  },
  {
   "cell_type": "code",
   "execution_count": 10,
   "id": "388b0744",
   "metadata": {},
   "outputs": [
    {
     "data": {
      "text/plain": [
       "['Ant', 'Ball', 'Cat', 'Dog', 'Fish']"
      ]
     },
     "execution_count": 10,
     "metadata": {},
     "output_type": "execute_result"
    }
   ],
   "source": [
    "# Update\n",
    "a = ['Apple', 'Ball', 'Cat', 'Dog', 'Fish']\n",
    "a[0] = 'Ant'\n",
    "a"
   ]
  },
  {
   "cell_type": "code",
   "execution_count": 11,
   "id": "9178a8b5",
   "metadata": {},
   "outputs": [],
   "source": [
    "# del remove() pop()"
   ]
  },
  {
   "cell_type": "code",
   "execution_count": 13,
   "id": "e267b25c",
   "metadata": {},
   "outputs": [
    {
     "name": "stdout",
     "output_type": "stream",
     "text": [
      "['Ball', 'Cat', 'Dog', 'Fish']\n"
     ]
    }
   ],
   "source": [
    "a = ['Apple', 'Ball', 'Cat', 'Dog', 'Fish']\n",
    "del a[0]\n",
    "print(a)"
   ]
  },
  {
   "cell_type": "code",
   "execution_count": 15,
   "id": "acb40859",
   "metadata": {},
   "outputs": [
    {
     "data": {
      "text/plain": [
       "['Fish']"
      ]
     },
     "execution_count": 15,
     "metadata": {},
     "output_type": "execute_result"
    }
   ],
   "source": [
    "a = ['Apple', 'Ball', 'Cat', 'Dog', 'Fish']\n",
    "del a[0:4]\n",
    "a"
   ]
  },
  {
   "cell_type": "code",
   "execution_count": 16,
   "id": "afa0ed2f",
   "metadata": {},
   "outputs": [
    {
     "data": {
      "text/plain": [
       "['Ball', 'Cat', 'Dog', 'Fish']"
      ]
     },
     "execution_count": 16,
     "metadata": {},
     "output_type": "execute_result"
    }
   ],
   "source": [
    "a = ['Apple', 'Ball', 'Cat', 'Dog', 'Fish']\n",
    "a.remove('Apple')\n",
    "a"
   ]
  },
  {
   "cell_type": "code",
   "execution_count": 17,
   "id": "5816463a",
   "metadata": {},
   "outputs": [
    {
     "data": {
      "text/plain": [
       "['Ball', 'Cat', 'Dog', 'Fish', 'Apple']"
      ]
     },
     "execution_count": 17,
     "metadata": {},
     "output_type": "execute_result"
    }
   ],
   "source": [
    "a = ['Apple', 'Ball', 'Cat', 'Dog', 'Fish','Apple']\n",
    "a.remove('Apple')\n",
    "a"
   ]
  },
  {
   "cell_type": "code",
   "execution_count": 21,
   "id": "613f66ae",
   "metadata": {},
   "outputs": [
    {
     "name": "stdout",
     "output_type": "stream",
     "text": [
      "['Ball', 'Cat', 'Dog', 'Fish']\n"
     ]
    }
   ],
   "source": [
    "a = ['Apple', 'Ball', 'Cat', 'Dog', 'Fish','Apple']\n",
    "c = a.count('Apple')\n",
    "for i in range(c):\n",
    "    a.remove('Apple')\n",
    "print(a)"
   ]
  },
  {
   "cell_type": "code",
   "execution_count": 22,
   "id": "a53499f7",
   "metadata": {},
   "outputs": [
    {
     "data": {
      "text/plain": [
       "0"
      ]
     },
     "execution_count": 22,
     "metadata": {},
     "output_type": "execute_result"
    }
   ],
   "source": [
    "a = ['Apple', 'Ball', 'Cat', 'Dog', 'Fish']\n",
    "\n",
    "a.index('Apple')"
   ]
  },
  {
   "cell_type": "code",
   "execution_count": 25,
   "id": "6d2ccc7f",
   "metadata": {},
   "outputs": [
    {
     "name": "stdout",
     "output_type": "stream",
     "text": [
      "0\n",
      "5\n"
     ]
    }
   ],
   "source": [
    "a = ['Apple', 'Ball', 'Cat', 'Dog', 'Fish','Apple']\n",
    "\n",
    "for i in range(len(a)):\n",
    "    if a[i] == 'Apple':\n",
    "        print(i)"
   ]
  },
  {
   "cell_type": "code",
   "execution_count": 26,
   "id": "15a5f391",
   "metadata": {},
   "outputs": [
    {
     "data": {
      "text/plain": [
       "['Apple', 'Ball', 'Cat', 'Dog', 'Fish']"
      ]
     },
     "execution_count": 26,
     "metadata": {},
     "output_type": "execute_result"
    }
   ],
   "source": [
    "a = ['Apple', 'Ball', 'Cat', 'Dog', 'Fish','Apple']\n",
    "a.pop()\n",
    "a"
   ]
  },
  {
   "cell_type": "code",
   "execution_count": 27,
   "id": "c30ec1dc",
   "metadata": {},
   "outputs": [
    {
     "name": "stdout",
     "output_type": "stream",
     "text": [
      "Dog\n"
     ]
    }
   ],
   "source": [
    "a = ['Apple', 'Ball', 'Cat', 'Dog', 'Fish','Apple']\n",
    "b = a.pop(3)\n",
    "print(b)"
   ]
  },
  {
   "cell_type": "code",
   "execution_count": 35,
   "id": "eb19e324",
   "metadata": {},
   "outputs": [
    {
     "name": "stdout",
     "output_type": "stream",
     "text": [
      "Apple 3 200 600\n",
      "Banana 2 100 200\n"
     ]
    }
   ],
   "source": [
    "a = \"Apple 3 200 600\\nBanana 2 100 200\"\n",
    "print(a)"
   ]
  },
  {
   "cell_type": "code",
   "execution_count": 36,
   "id": "70d05708",
   "metadata": {},
   "outputs": [
    {
     "data": {
      "text/plain": [
       "['Apple 3 200 600', 'Banana 2 100 200']"
      ]
     },
     "execution_count": 36,
     "metadata": {},
     "output_type": "execute_result"
    }
   ],
   "source": [
    "x = a.split('\\n')\n",
    "x"
   ]
  },
  {
   "cell_type": "code",
   "execution_count": 39,
   "id": "bb0946a1",
   "metadata": {},
   "outputs": [
    {
     "name": "stdout",
     "output_type": "stream",
     "text": [
      "[[1, 2, 3], [4, 5, 6], [6, 7, 8]]\n",
      "<class 'list'>\n",
      "3\n"
     ]
    }
   ],
   "source": [
    "# List inside list\n",
    "a = [[1,2,3],\n",
    "     [4,5,6],\n",
    "     [6,7,8]]\n",
    "print(a)\n",
    "print(type(a))\n",
    "print(len(a))"
   ]
  },
  {
   "cell_type": "code",
   "execution_count": null,
   "id": "59cb6587",
   "metadata": {},
   "outputs": [],
   "source": []
  },
  {
   "cell_type": "code",
   "execution_count": null,
   "id": "fd7481a6",
   "metadata": {},
   "outputs": [],
   "source": [
    "info = [['Ram',34,'Kathmandu'],\n",
    "        ['Shyam',67,'Lalitpur'],\n",
    "        ['Hari',67,'Bhaktapur']]\n"
   ]
  },
  {
   "cell_type": "code",
   "execution_count": 52,
   "id": "df0986bf",
   "metadata": {},
   "outputs": [
    {
     "name": "stdout",
     "output_type": "stream",
     "text": [
      "['Apple 3 200 600', 'Banana 2 100 200']\n"
     ]
    },
    {
     "data": {
      "text/plain": [
       "['Banana', '2', '100', '200']"
      ]
     },
     "execution_count": 52,
     "metadata": {},
     "output_type": "execute_result"
    }
   ],
   "source": [
    "data = []\n",
    "a = \"Apple 3 200 600\\nBanana 2 100 200\"\n",
    "x = a.split('\\n')\n",
    "print(x)\n",
    "x[1].split()"
   ]
  },
  {
   "cell_type": "code",
   "execution_count": 44,
   "id": "bc655599",
   "metadata": {},
   "outputs": [
    {
     "data": {
      "text/plain": [
       "[['Apple', '3', '200', '600'], ['Banana', '2', '100', '200']]"
      ]
     },
     "execution_count": 44,
     "metadata": {},
     "output_type": "execute_result"
    }
   ],
   "source": [
    "data = []\n",
    "a = \"Apple 3 200 600\\nBanana 2 100 200\"\n",
    "x = a.split('\\n')\n",
    "for i in x:\n",
    "    y = i.split()\n",
    "    data.append(y)\n",
    "    \n",
    "data"
   ]
  },
  {
   "cell_type": "code",
   "execution_count": 2,
   "id": "63677d57",
   "metadata": {},
   "outputs": [
    {
     "name": "stdout",
     "output_type": "stream",
     "text": [
      "Enter n = 2\n",
      "Enter name = Apple\n",
      "Enter price = 300\n",
      "Enter quantity = 2\n",
      "Enter name = Banana\n",
      "Enter price = 80\n",
      "Enter quantity = 4\n",
      "[['Apple', 300, 2, 600], ['Banana', 80, 4, 320]]\n"
     ]
    }
   ],
   "source": [
    "# WAP to create a billing system using list inside list\n",
    "bill = []\n",
    "n = int(input(\"Enter n = \"))\n",
    "for i in range(n):\n",
    "    name = input(\"Enter name = \")\n",
    "    price = int(input(\"Enter price = \"))\n",
    "    quantity = int(input(\"Enter quantity = \"))\n",
    "    total = price*quantity\n",
    "    s = [name,price,quantity,total]\n",
    "    bill.append(s)\n",
    "    \n",
    "print(bill)"
   ]
  },
  {
   "cell_type": "code",
   "execution_count": 5,
   "id": "082f5279",
   "metadata": {},
   "outputs": [
    {
     "name": "stdout",
     "output_type": "stream",
     "text": [
      "Enter name = Ram\n",
      "['Ram', 34, 'Kathmandu']\n"
     ]
    }
   ],
   "source": [
    "a = [['Ram',34,'Kathmandu'],\n",
    "     ['Shyam',31,'Bhaktapur'],\n",
    "     ['Sabin',35,'Lalitpur']]\n",
    "name = input('Enter name = ')\n",
    "for i in a:\n",
    "    if name in i:\n",
    "        print(i)"
   ]
  },
  {
   "cell_type": "code",
   "execution_count": 16,
   "id": "934f0a6a",
   "metadata": {},
   "outputs": [
    {
     "data": {
      "text/plain": [
       "6"
      ]
     },
     "execution_count": 16,
     "metadata": {},
     "output_type": "execute_result"
    }
   ],
   "source": [
    "a = [[1,2,3],\n",
    "    [4,5,6],\n",
    "    [7,8,9]]\n",
    "a[1][2]"
   ]
  },
  {
   "cell_type": "code",
   "execution_count": 30,
   "id": "e718924c",
   "metadata": {},
   "outputs": [
    {
     "name": "stdout",
     "output_type": "stream",
     "text": [
      "Enter name = Ram\n",
      "['Ram', 34, 'Kathmandu']\n"
     ]
    }
   ],
   "source": [
    "a = [['Ram',34,'Kathmandu'],\n",
    "     ['Shyam',31,'Bhaktapur'],\n",
    "     ['Sabin',35,'Lalitpur']]\n",
    "name = input('Enter name = ')\n",
    "# a = ['Ram',34,'Kathmandu']\n",
    "for i in a:\n",
    "    if name in i:\n",
    "        print(i)"
   ]
  },
  {
   "cell_type": "code",
   "execution_count": 28,
   "id": "97aeda3e",
   "metadata": {},
   "outputs": [
    {
     "data": {
      "text/plain": [
       "False"
      ]
     },
     "execution_count": 28,
     "metadata": {},
     "output_type": "execute_result"
    }
   ],
   "source": [
    " ['Sabin',35,'Lalitpur'] == \"Ram\""
   ]
  },
  {
   "cell_type": "code",
   "execution_count": 32,
   "id": "20543ed8",
   "metadata": {},
   "outputs": [
    {
     "data": {
      "text/plain": [
       "[['Ramprasad', 54, 'Kathmandu'],\n",
       " ['Shyam', 31, 'Bhaktapur'],\n",
       " ['Sabin', 35, 'Lalitpur']]"
      ]
     },
     "execution_count": 32,
     "metadata": {},
     "output_type": "execute_result"
    }
   ],
   "source": [
    "#Update\n",
    "a = [['Ram',34,'Kathmandu'],\n",
    "     ['Shyam',31,'Bhaktapur'],\n",
    "     ['Sabin',35,'Lalitpur']]\n",
    "a[0] = ['Ramprasad', 54, 'Kathmandu']\n",
    "a"
   ]
  },
  {
   "cell_type": "code",
   "execution_count": 33,
   "id": "25ec10ff",
   "metadata": {},
   "outputs": [
    {
     "data": {
      "text/plain": [
       "[['Ramprasad', 34, 'Kathmandu'],\n",
       " ['Shyam', 31, 'Bhaktapur'],\n",
       " ['Sabin', 35, 'Lalitpur']]"
      ]
     },
     "execution_count": 33,
     "metadata": {},
     "output_type": "execute_result"
    }
   ],
   "source": [
    "a = [['Ram',34,'Kathmandu'],\n",
    "     ['Shyam',31,'Bhaktapur'],\n",
    "     ['Sabin',35,'Lalitpur']]\n",
    "a[0][0] = 'Ramprasad'\n",
    "a"
   ]
  },
  {
   "cell_type": "code",
   "execution_count": 34,
   "id": "c425ce3f",
   "metadata": {},
   "outputs": [
    {
     "name": "stdout",
     "output_type": "stream",
     "text": [
      "Enter name = Ram\n",
      "[['Shyam', 31, 'Bhaktapur'], ['Sabin', 35, 'Lalitpur']]\n"
     ]
    }
   ],
   "source": [
    "a = [['Ram',34,'Kathmandu'],\n",
    "     ['Shyam',31,'Bhaktapur'],\n",
    "     ['Sabin',35,'Lalitpur'],\n",
    "    ['Ram',34,'Kathmandu']]\n",
    "name = input(\"Enter name = \")\n",
    "for i in a:\n",
    "    if name in i:\n",
    "        a.remove(i)\n",
    "        \n",
    "print(a)"
   ]
  },
  {
   "cell_type": "code",
   "execution_count": 36,
   "id": "d37b3605",
   "metadata": {},
   "outputs": [
    {
     "name": "stdout",
     "output_type": "stream",
     "text": [
      "Enter row = 2\n",
      "Enter column = 1\n",
      "Enter x = 2\n",
      "Enter x = 3\n",
      "[[2], [3]]\n"
     ]
    }
   ],
   "source": [
    "# m = [[1,2,3],[4,5,6]]        \n",
    "# WAP to create a matrix\n",
    "m = []\n",
    "r = int(input(\"Enter row = \"))\n",
    "c = int(input(\"Enter column = \"))\n",
    "for i in range(r):\n",
    "    y = []\n",
    "    for j in range(c):\n",
    "        x = int(input(\"Enter x = \"))\n",
    "        y.append(x)\n",
    "    m.append(y)\n",
    "print(m)"
   ]
  },
  {
   "cell_type": "code",
   "execution_count": null,
   "id": "2ed43131",
   "metadata": {},
   "outputs": [],
   "source": []
  }
 ],
 "metadata": {
  "kernelspec": {
   "display_name": "Python 3 (ipykernel)",
   "language": "python",
   "name": "python3"
  },
  "language_info": {
   "codemirror_mode": {
    "name": "ipython",
    "version": 3
   },
   "file_extension": ".py",
   "mimetype": "text/x-python",
   "name": "python",
   "nbconvert_exporter": "python",
   "pygments_lexer": "ipython3",
   "version": "3.9.12"
  }
 },
 "nbformat": 4,
 "nbformat_minor": 5
}
