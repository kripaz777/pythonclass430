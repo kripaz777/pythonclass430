{
 "cells": [
  {
   "cell_type": "code",
   "execution_count": 1,
   "id": "0efcb0bc",
   "metadata": {},
   "outputs": [],
   "source": [
    "# b = open('<file_name>','<mode>')\n",
    "# b.close()\n",
    "# r ->read\n",
    "# x ->create\n",
    "# w ->write\n",
    "# a ->append"
   ]
  },
  {
   "cell_type": "code",
   "execution_count": 5,
   "id": "136c5985",
   "metadata": {},
   "outputs": [
    {
     "name": "stdout",
     "output_type": "stream",
     "text": [
      "The file is already there\n"
     ]
    }
   ],
   "source": [
    "try:\n",
    "    b = open('data.txt','x')\n",
    "    b.close()\n",
    "except:\n",
    "    print(\"The file is already there\")"
   ]
  },
  {
   "cell_type": "code",
   "execution_count": 3,
   "id": "d0438b59",
   "metadata": {},
   "outputs": [],
   "source": [
    "with open('data1.txt','x') as b:\n",
    "    pass"
   ]
  },
  {
   "cell_type": "code",
   "execution_count": 12,
   "id": "313427e4",
   "metadata": {},
   "outputs": [
    {
     "name": "stdout",
     "output_type": "stream",
     "text": [
      "1.Hello World\n",
      "2.Hello World\n",
      "3.Hello World\n",
      "4.Hello World\n",
      "5.Hello World\n",
      "6.Hello World\n",
      "7.Hello World\n",
      "8.Hello World\n"
     ]
    }
   ],
   "source": [
    "b = open('data.txt','r')\n",
    "x = b.read()\n",
    "print(x)\n",
    "b.close()"
   ]
  },
  {
   "cell_type": "code",
   "execution_count": 13,
   "id": "c1878af9",
   "metadata": {},
   "outputs": [
    {
     "name": "stdout",
     "output_type": "stream",
     "text": [
      "<class 'str'>\n"
     ]
    }
   ],
   "source": [
    "print(type(x))"
   ]
  },
  {
   "cell_type": "code",
   "execution_count": 14,
   "id": "28ae845b",
   "metadata": {},
   "outputs": [
    {
     "data": {
      "text/plain": [
       "['1.Hello World',\n",
       " '2.Hello World',\n",
       " '3.Hello World',\n",
       " '4.Hello World',\n",
       " '5.Hello World',\n",
       " '6.Hello World',\n",
       " '7.Hello World',\n",
       " '8.Hello World']"
      ]
     },
     "execution_count": 14,
     "metadata": {},
     "output_type": "execute_result"
    }
   ],
   "source": [
    "y = x.split('\\n')\n",
    "y"
   ]
  },
  {
   "cell_type": "code",
   "execution_count": 11,
   "id": "7fde2dc7",
   "metadata": {},
   "outputs": [
    {
     "data": {
      "text/plain": [
       "'2.Hello World'"
      ]
     },
     "execution_count": 11,
     "metadata": {},
     "output_type": "execute_result"
    }
   ],
   "source": [
    "y[1]"
   ]
  },
  {
   "cell_type": "code",
   "execution_count": 15,
   "id": "e5585781",
   "metadata": {},
   "outputs": [],
   "source": [
    "with open('data1.txt','w') as b:\n",
    "    b.write('Hello World')"
   ]
  },
  {
   "cell_type": "code",
   "execution_count": 16,
   "id": "2b908e2d",
   "metadata": {},
   "outputs": [],
   "source": [
    "b = open('data1.txt','w')\n",
    "b.write('2.Hello World')\n",
    "b.close()"
   ]
  },
  {
   "cell_type": "code",
   "execution_count": null,
   "id": "cfe0902a",
   "metadata": {},
   "outputs": [],
   "source": [
    "b = open('data1.txt','a')\n",
    "b.write('\\n3.Hello World')\n",
    "b.close()"
   ]
  },
  {
   "cell_type": "code",
   "execution_count": null,
   "id": "f723adb6",
   "metadata": {},
   "outputs": [],
   "source": [
    "# a w x\n",
    "b = open('data3.txt','a')\n",
    "b.write('\\n3.Hello World')\n",
    "b.close()"
   ]
  },
  {
   "cell_type": "code",
   "execution_count": 17,
   "id": "09066baf",
   "metadata": {},
   "outputs": [
    {
     "name": "stdout",
     "output_type": "stream",
     "text": [
      "Enter n = 2\n",
      "Enter name = Apple\n",
      "Enter price = 300\n",
      "Enter quantity = 4\n",
      "Enter name = banana\n",
      "Enter price = 100\n",
      "Enter quantity = 4\n",
      "Apple 300 4 1200\n",
      "banana 100 4 400\n",
      "\n"
     ]
    }
   ],
   "source": [
    "bill = \"\"\n",
    "n = int(input(\"Enter n = \"))\n",
    "for i in range(n):\n",
    "    name = input(\"Enter name = \")\n",
    "    price = int(input(\"Enter price = \"))\n",
    "    quantity = int(input(\"Enter quantity = \"))\n",
    "    total = price*quantity\n",
    "    data = f\"{name} {price} {quantity} {total}\\n\"\n",
    "    bill = bill +data\n",
    "    \n",
    "print(bill)\n"
   ]
  },
  {
   "cell_type": "code",
   "execution_count": 18,
   "id": "b384685f",
   "metadata": {},
   "outputs": [],
   "source": [
    "b = open('bill.txt','w')\n",
    "b.write(bill)\n",
    "b.close()"
   ]
  },
  {
   "cell_type": "code",
   "execution_count": 19,
   "id": "e7fdf498",
   "metadata": {},
   "outputs": [
    {
     "name": "stdout",
     "output_type": "stream",
     "text": [
      "Enter n = 2\n",
      "Enter name = Apple\n",
      "Enter price = 300\n",
      "Enter quantity = 2\n",
      "Enter name = Banana\n",
      "Enter price = 200\n",
      "Enter quantity = 4\n",
      "Apple,300,2,600\n",
      "Banana,200,4,800\n",
      "\n"
     ]
    }
   ],
   "source": [
    "bill = \"\"\n",
    "n = int(input(\"Enter n = \"))\n",
    "for i in range(n):\n",
    "    name = input(\"Enter name = \")\n",
    "    price = int(input(\"Enter price = \"))\n",
    "    quantity = int(input(\"Enter quantity = \"))\n",
    "    total = price*quantity\n",
    "    data = f\"{name},{price},{quantity},{total}\\n\"\n",
    "    bill = bill +data\n",
    "    \n",
    "print(bill)\n",
    "b = open('bill.csv','w')\n",
    "b.write('Name,Price,Quantity,Total\\n')\n",
    "b.write(bill)\n",
    "b.close()"
   ]
  },
  {
   "cell_type": "code",
   "execution_count": 20,
   "id": "3d4c1d79",
   "metadata": {},
   "outputs": [],
   "source": [
    "# pip install pandas"
   ]
  },
  {
   "cell_type": "code",
   "execution_count": 21,
   "id": "730bda9f",
   "metadata": {},
   "outputs": [
    {
     "data": {
      "text/html": [
       "<div>\n",
       "<style scoped>\n",
       "    .dataframe tbody tr th:only-of-type {\n",
       "        vertical-align: middle;\n",
       "    }\n",
       "\n",
       "    .dataframe tbody tr th {\n",
       "        vertical-align: top;\n",
       "    }\n",
       "\n",
       "    .dataframe thead th {\n",
       "        text-align: right;\n",
       "    }\n",
       "</style>\n",
       "<table border=\"1\" class=\"dataframe\">\n",
       "  <thead>\n",
       "    <tr style=\"text-align: right;\">\n",
       "      <th></th>\n",
       "      <th>Name</th>\n",
       "      <th>Price</th>\n",
       "      <th>Quantity</th>\n",
       "      <th>Total</th>\n",
       "    </tr>\n",
       "  </thead>\n",
       "  <tbody>\n",
       "    <tr>\n",
       "      <th>0</th>\n",
       "      <td>Apple</td>\n",
       "      <td>300</td>\n",
       "      <td>2</td>\n",
       "      <td>600</td>\n",
       "    </tr>\n",
       "    <tr>\n",
       "      <th>1</th>\n",
       "      <td>Banana</td>\n",
       "      <td>200</td>\n",
       "      <td>4</td>\n",
       "      <td>800</td>\n",
       "    </tr>\n",
       "  </tbody>\n",
       "</table>\n",
       "</div>"
      ],
      "text/plain": [
       "     Name  Price  Quantity  Total\n",
       "0   Apple    300         2    600\n",
       "1  Banana    200         4    800"
      ]
     },
     "execution_count": 21,
     "metadata": {},
     "output_type": "execute_result"
    }
   ],
   "source": [
    "import pandas as pd\n",
    "b = pd.read_csv('bill.csv')\n",
    "b"
   ]
  },
  {
   "cell_type": "code",
   "execution_count": null,
   "id": "70a1559e",
   "metadata": {},
   "outputs": [],
   "source": []
  }
 ],
 "metadata": {
  "kernelspec": {
   "display_name": "Python 3 (ipykernel)",
   "language": "python",
   "name": "python3"
  },
  "language_info": {
   "codemirror_mode": {
    "name": "ipython",
    "version": 3
   },
   "file_extension": ".py",
   "mimetype": "text/x-python",
   "name": "python",
   "nbconvert_exporter": "python",
   "pygments_lexer": "ipython3",
   "version": "3.9.12"
  }
 },
 "nbformat": 4,
 "nbformat_minor": 5
}
