{
 "cells": [
  {
   "cell_type": "code",
   "execution_count": 1,
   "id": "b8e94eb9",
   "metadata": {},
   "outputs": [
    {
     "name": "stdout",
     "output_type": "stream",
     "text": [
      "Collecting mysql-connector\n",
      "  Downloading mysql-connector-2.2.9.tar.gz (11.9 MB)\n",
      "Building wheels for collected packages: mysql-connector\n",
      "  Building wheel for mysql-connector (setup.py): started\n",
      "  Building wheel for mysql-connector (setup.py): finished with status 'done'\n",
      "  Created wheel for mysql-connector: filename=mysql_connector-2.2.9-cp39-cp39-win_amd64.whl size=247961 sha256=aaa8c37d6be23c8180a2e48d80c74f32e2c9049eaeac6f6ea57c373f1043b910\n",
      "  Stored in directory: c:\\users\\aayush\\appdata\\local\\pip\\cache\\wheels\\7b\\14\\39\\5aad423666e827dfe9a1fbcd111ac17171e7c9865d570780ce\n",
      "Successfully built mysql-connector\n",
      "Installing collected packages: mysql-connector\n",
      "Successfully installed mysql-connector-2.2.9\n"
     ]
    }
   ],
   "source": [
    "!pip install mysql-connector"
   ]
  },
  {
   "cell_type": "code",
   "execution_count": 2,
   "id": "75811913",
   "metadata": {},
   "outputs": [],
   "source": [
    "import mysql.connector\n",
    "#importing database\n",
    "database = mysql.connector.connect(\n",
    "host=\"localhost\",\n",
    "user=\"root\",\n",
    "password=\"\"\n",
    ")\n",
    "db = database.cursor()\n",
    "\n",
    "db.execute(\"CREATE DATABASE pythons\")"
   ]
  },
  {
   "cell_type": "code",
   "execution_count": 10,
   "id": "8951be55",
   "metadata": {},
   "outputs": [],
   "source": [
    "import mysql.connector\n",
    "#importing database\n",
    "database = mysql.connector.connect(\n",
    "host=\"localhost\",\n",
    "user=\"root\",\n",
    "password=\"\",\n",
    "database = \"class4pm\"\n",
    ")\n",
    "db = database.cursor()"
   ]
  },
  {
   "cell_type": "code",
   "execution_count": 2,
   "id": "7dcd21f8",
   "metadata": {},
   "outputs": [
    {
     "name": "stdout",
     "output_type": "stream",
     "text": [
      "(1, 'Ram', 89.0, 87.0, 67.0, 87.0, 67.0, 412.0, 82.5, 'A')\n",
      "(2, 'Shyam', 98.0, 67.0, 67.0, 98.0, 94.0, 450.0, 88.5, 'A')\n",
      "(3, 'Hari', 89.0, 67.0, 80.0, 81.0, 67.0, 410.0, 85.5, 'A')\n",
      "(4, 'Nabin', 89.0, 87.0, 67.0, 81.0, 67.0, 421.0, 85.6, 'A')\n"
     ]
    }
   ],
   "source": [
    "db.execute(\"SELECT * FROM student\")\n",
    "result =db.fetchall()\n",
    "for data in result:\n",
    "    print(data)"
   ]
  },
  {
   "cell_type": "code",
   "execution_count": 3,
   "id": "15c483c5",
   "metadata": {},
   "outputs": [
    {
     "name": "stdout",
     "output_type": "stream",
     "text": [
      "(3, 'Hari', 89.0, 67.0, 80.0, 81.0, 67.0, 410.0, 85.5, 'A')\n"
     ]
    }
   ],
   "source": [
    "db.execute(\"SELECT * FROM student WHERE name = 'Hari'\")\n",
    "result =db.fetchall()\n",
    "for data in result:\n",
    "    print(data)"
   ]
  },
  {
   "cell_type": "code",
   "execution_count": 4,
   "id": "c8d35f64",
   "metadata": {},
   "outputs": [
    {
     "name": "stdout",
     "output_type": "stream",
     "text": [
      "(1, 'Ram', 89.0, 87.0, 67.0, 87.0, 67.0, 412.0, 82.5, 'A')\n",
      "(2, 'Shyam', 98.0, 67.0, 67.0, 98.0, 94.0, 450.0, 88.5, 'A')\n",
      "(4, 'Nabin', 89.0, 87.0, 67.0, 81.0, 67.0, 421.0, 85.6, 'A')\n"
     ]
    }
   ],
   "source": [
    "db.execute(\"SELECT * FROM student WHERE total > 410\")\n",
    "result =db.fetchall()\n",
    "for data in result:\n",
    "    print(data)"
   ]
  },
  {
   "cell_type": "code",
   "execution_count": 5,
   "id": "e0e9c8a0",
   "metadata": {},
   "outputs": [
    {
     "name": "stdout",
     "output_type": "stream",
     "text": [
      "(1, 'Ram', 412.0, 82.5, 'A')\n",
      "(2, 'Shyam', 450.0, 88.5, 'A')\n",
      "(3, 'Hari', 410.0, 85.5, 'A')\n",
      "(4, 'Nabin', 421.0, 85.6, 'A')\n"
     ]
    }
   ],
   "source": [
    "db.execute(\"SELECT sn, name, total, per, grade FROM student\")\n",
    "result =db.fetchall()\n",
    "for data in result:\n",
    "    print(data)"
   ]
  },
  {
   "cell_type": "code",
   "execution_count": 6,
   "id": "48484fd1",
   "metadata": {},
   "outputs": [],
   "source": [
    "sql = '''INSERT INTO `student` ( `name`, `physics`, `chemistry`, `math`, `english`, `nepali`, `total`, `per`, `grade`) \n",
    "VALUES ( 'ram Prasad', '56', '67', '67', '91', '67', '378', '72.5', 'B')'''\n",
    "db.execute(sql)\n",
    "database.commit()"
   ]
  },
  {
   "cell_type": "code",
   "execution_count": 8,
   "id": "ef2d6fea",
   "metadata": {},
   "outputs": [
    {
     "name": "stdout",
     "output_type": "stream",
     "text": [
      "Enter n = 1\n",
      "Enter name = Nabin\n",
      "Enter physics marks = 89\n",
      "Enter chemistry marks = 87\n",
      "Enter math marks = 67\n",
      "Enter english marks = 98\n",
      "Enter nepali marks = 78\n",
      "INSERT INTO student ( name, physics, chemistry, math, english, nepali, total, per, grade) \n",
      "    VALUES ( 'Nabin',89 , 87, 67, 98, 78, 419, 83.8, 'A')\n"
     ]
    }
   ],
   "source": [
    "n = int(input(\"Enter n = \"))\n",
    "for i in range(n):\n",
    "    name = input(\"Enter name = \")\n",
    "    physics = int(input(\"Enter physics marks = \"))\n",
    "    chemistry = int(input(\"Enter chemistry marks = \"))\n",
    "    math = int(input(\"Enter math marks = \"))\n",
    "    english = int(input(\"Enter english marks = \"))\n",
    "    nepali = int(input(\"Enter nepali marks = \"))\n",
    "    total = sum([physics,chemistry,math,english,nepali])\n",
    "    per = total/5\n",
    "    if per>=80:\n",
    "        grade = 'A'\n",
    "    elif per>=60:\n",
    "        grade = 'B'\n",
    "    elif per>=45:\n",
    "        grade = 'C'\n",
    "    else:\n",
    "        grade = 'F'\n",
    "        \n",
    "    sql = f'''INSERT INTO student ( name, physics, chemistry, math, english, nepali, total, per, grade) \n",
    "    VALUES ( '{name}',{physics} , {chemistry}, {math}, {english}, {nepali}, {total}, {per}, '{grade}')'''\n",
    "    print(sql)\n",
    "    db.execute(sql)\n",
    "    \n",
    "database.commit()"
   ]
  },
  {
   "cell_type": "code",
   "execution_count": null,
   "id": "2a5a4d18",
   "metadata": {},
   "outputs": [],
   "source": [
    "# Delete\n",
    "sql = \"DELETE FROM student WHERE sn = 5\"\n",
    "db.execute(sql)\n",
    "databse.commit()"
   ]
  },
  {
   "cell_type": "code",
   "execution_count": 12,
   "id": "927e1a0a",
   "metadata": {},
   "outputs": [
    {
     "name": "stdout",
     "output_type": "stream",
     "text": [
      "Enter id = 5\n"
     ]
    }
   ],
   "source": [
    "ids = int(input(\"Enter id = \"))\n",
    "sql = f\"DELETE FROM student WHERE sn = {ids}\"\n",
    "db.execute(sql)\n",
    "database.commit()"
   ]
  },
  {
   "cell_type": "code",
   "execution_count": 13,
   "id": "8fe869a8",
   "metadata": {},
   "outputs": [],
   "source": [
    "# Update\n",
    "sql = \"UPDATE student SET name = 'Nabina' WHERE name = 'Nabin'\"\n",
    "db.execute(sql)\n",
    "database.commit()"
   ]
  },
  {
   "cell_type": "code",
   "execution_count": 14,
   "id": "27b1d14c",
   "metadata": {},
   "outputs": [],
   "source": [
    "# Update\n",
    "sql = \"UPDATE student SET name = 'Nabina' WHERE name = 'Nabin' and grade = 'A'\"\n",
    "db.execute(sql)\n",
    "database.commit()"
   ]
  },
  {
   "cell_type": "code",
   "execution_count": null,
   "id": "34dfe6e0",
   "metadata": {},
   "outputs": [],
   "source": []
  }
 ],
 "metadata": {
  "kernelspec": {
   "display_name": "Python 3 (ipykernel)",
   "language": "python",
   "name": "python3"
  },
  "language_info": {
   "codemirror_mode": {
    "name": "ipython",
    "version": 3
   },
   "file_extension": ".py",
   "mimetype": "text/x-python",
   "name": "python",
   "nbconvert_exporter": "python",
   "pygments_lexer": "ipython3",
   "version": "3.9.12"
  }
 },
 "nbformat": 4,
 "nbformat_minor": 5
}
